{
 "cells": [
  {
   "cell_type": "markdown",
   "id": "40bebec3-c2c2-46dc-9375-a2195491e3b8",
   "metadata": {},
   "source": [
    "# Line-by-line Execution"
   ]
  },
  {
   "cell_type": "code",
   "execution_count": 6,
   "id": "911796b4-328a-4a05-afa6-e6128a039c0c",
   "metadata": {},
   "outputs": [
    {
     "name": "stdout",
     "output_type": "stream",
     "text": [
      "Line 0\n",
      "Line 1\n",
      "Line 2\n"
     ]
    }
   ],
   "source": [
    "print(\"Line 0\")\n",
    "print(\"Line 1\")\n",
    "print(\"Line 2\")"
   ]
  },
  {
   "cell_type": "markdown",
   "id": "e97e816b-185d-4dce-9486-792d62d6cee5",
   "metadata": {},
   "source": [
    "# Conditionals"
   ]
  },
  {
   "cell_type": "code",
   "execution_count": 15,
   "id": "ccab8073-5162-4d93-bc20-43c7307e3692",
   "metadata": {},
   "outputs": [
    {
     "name": "stdout",
     "output_type": "stream",
     "text": [
      "Fizz\n"
     ]
    }
   ],
   "source": [
    "number = 15\n",
    "\n",
    "if number % 3 == 0:\n",
    "    print(\"Fizz\")\n",
    "elif number % 5 == 0:\n",
    "    print(\"Buzz\")"
   ]
  },
  {
   "cell_type": "markdown",
   "id": "1147fa8f-75b5-4295-a19f-39c5f3ddbdb3",
   "metadata": {},
   "source": [
    "# Loops"
   ]
  },
  {
   "cell_type": "code",
   "execution_count": 16,
   "id": "c3b79f32-ac63-4d7e-b05b-437b410d6c8a",
   "metadata": {},
   "outputs": [
    {
     "name": "stdout",
     "output_type": "stream",
     "text": [
      "H\n",
      "e\n",
      "l\n",
      "l\n",
      "o\n"
     ]
    }
   ],
   "source": [
    "for letter in \"Hello\":\n",
    "    print(letter)"
   ]
  },
  {
   "cell_type": "code",
   "execution_count": 17,
   "id": "acbc7e4b-f59d-4d2b-a117-537a732c3671",
   "metadata": {},
   "outputs": [
    {
     "name": "stdout",
     "output_type": "stream",
     "text": [
      "1\n",
      "2\n",
      "3\n",
      "4\n",
      "5\n",
      "6\n",
      "7\n",
      "8\n",
      "9\n",
      "10\n"
     ]
    }
   ],
   "source": [
    "for number in range(1, 11):\n",
    "    print(number)"
   ]
  },
  {
   "cell_type": "code",
   "execution_count": 19,
   "id": "0b6b7b92-5d51-4c20-ab21-de06b020e1e6",
   "metadata": {},
   "outputs": [
    {
     "name": "stdout",
     "output_type": "stream",
     "text": [
      "1\n",
      "2\n",
      "3\n",
      "4\n",
      "5\n",
      "6\n",
      "7\n",
      "8\n",
      "9\n",
      "10\n"
     ]
    }
   ],
   "source": [
    "counter = 1\n",
    "\n",
    "while counter <= 10:\n",
    "    print(counter)\n",
    "    counter = counter + 1"
   ]
  },
  {
   "cell_type": "markdown",
   "id": "b435537a-21d9-41e6-9d22-fb9608f02ac0",
   "metadata": {},
   "source": [
    "# Functions"
   ]
  },
  {
   "cell_type": "code",
   "execution_count": 22,
   "id": "4607fd63-35cf-4c61-bba1-5754b94e7b27",
   "metadata": {},
   "outputs": [],
   "source": [
    "def greet_name(name: str):\n",
    "    print(f'Hi, {name}')"
   ]
  },
  {
   "cell_type": "code",
   "execution_count": 24,
   "id": "660b94a7-51be-4712-9d3c-82494a42b723",
   "metadata": {},
   "outputs": [
    {
     "name": "stdout",
     "output_type": "stream",
     "text": [
      "Hi, Joben\n"
     ]
    }
   ],
   "source": [
    "greet_name(\"Joben\")"
   ]
  },
  {
   "cell_type": "code",
   "execution_count": 28,
   "id": "07a5ac05-8304-4d12-a20d-2f9d2287676c",
   "metadata": {},
   "outputs": [],
   "source": [
    "def add(x: int, y: int):\n",
    "    my_sum = x + y\n",
    "    return my_sum"
   ]
  },
  {
   "cell_type": "code",
   "execution_count": 29,
   "id": "9c126c6c-7583-4617-81af-4f34e4fd2ae9",
   "metadata": {},
   "outputs": [
    {
     "data": {
      "text/plain": [
       "True"
      ]
     },
     "execution_count": 29,
     "metadata": {},
     "output_type": "execute_result"
    }
   ],
   "source": [
    "add(1, 2) == 3"
   ]
  },
  {
   "cell_type": "code",
   "execution_count": null,
   "id": "f2a30689-bc72-44ed-b41e-9c4721dd5f56",
   "metadata": {},
   "outputs": [],
   "source": []
  }
 ],
 "metadata": {
  "kernelspec": {
   "display_name": "Python 3 (ipykernel)",
   "language": "python",
   "name": "python3"
  },
  "language_info": {
   "codemirror_mode": {
    "name": "ipython",
    "version": 3
   },
   "file_extension": ".py",
   "mimetype": "text/x-python",
   "name": "python",
   "nbconvert_exporter": "python",
   "pygments_lexer": "ipython3",
   "version": "3.9.12"
  }
 },
 "nbformat": 4,
 "nbformat_minor": 5
}
