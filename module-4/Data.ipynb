{
 "cells": [
  {
   "cell_type": "markdown",
   "id": "aa8976ad-62a4-4831-9fbf-ae8437485f90",
   "metadata": {
    "tags": []
   },
   "source": [
    "# Data Types"
   ]
  },
  {
   "cell_type": "code",
   "execution_count": 6,
   "id": "709cfa10-51c7-4fea-9856-aca9e172b80c",
   "metadata": {},
   "outputs": [
    {
     "data": {
      "text/plain": [
       "123456"
      ]
     },
     "execution_count": 6,
     "metadata": {},
     "output_type": "execute_result"
    }
   ],
   "source": [
    "# Integers: whole numbers\n",
    "## Examples of valid integer literals\n",
    "## NOTE: a literal is a symbol whose meaning is hopefully obvious\n",
    "1\n",
    "2\n",
    "5\n",
    "1329\n",
    "123_456 # The underscore can be used as a visual separator; it does not affect the value"
   ]
  },
  {
   "cell_type": "code",
   "execution_count": 3,
   "id": "3372a81a-c18b-4726-9998-6ad53922a2d2",
   "metadata": {},
   "outputs": [
    {
     "data": {
      "text/plain": [
       "123456.5"
      ]
     },
     "execution_count": 3,
     "metadata": {},
     "output_type": "execute_result"
    }
   ],
   "source": [
    "# Floats: numbers with fractional parts\n",
    "## NOTE: Floats are imprecise! Do not use them for precise calculations\n",
    "## Examples of valid float literals\n",
    "1.0\n",
    "1.5\n",
    "1.\n",
    ".1\n",
    "12.10\n",
    "123_456.5"
   ]
  },
  {
   "cell_type": "code",
   "execution_count": 5,
   "id": "7f3f729b-678f-4e55-a3c2-dd48ecd4154b",
   "metadata": {},
   "outputs": [
    {
     "data": {
      "text/plain": [
       "False"
      ]
     },
     "execution_count": 5,
     "metadata": {},
     "output_type": "execute_result"
    }
   ],
   "source": [
    "# Booleans: just either True or False\n",
    "True\n",
    "False"
   ]
  },
  {
   "cell_type": "code",
   "execution_count": null,
   "id": "eb257e5d-6aef-4fbe-9e63-e1e0d4f06c6b",
   "metadata": {},
   "outputs": [],
   "source": [
    "# Strings: a sequence of characters\n",
    "## Examples of valid string literals\n",
    "\"a\"\n",
    "\n",
    "\"hi\"\n",
    "\n",
    "'single quotes'\n",
    "\n",
    "'''triple single quotes'''\n",
    "\n",
    "\"\"\"triple double quotes\"\"\"\n",
    "\n",
    "\"\"\n",
    "\n",
    "''\n",
    "\n",
    "'''\n",
    "multiline string\n",
    "inside\n",
    "triple quotes\n",
    "'''\n",
    "\n",
    "f'An \"f\" string for formatting. We will see more of this later'"
   ]
  },
  {
   "cell_type": "markdown",
   "id": "be09f260-1d55-4651-8286-457082c6d8b8",
   "metadata": {},
   "source": [
    "# Variables"
   ]
  },
  {
   "cell_type": "code",
   "execution_count": 7,
   "id": "0d66f1eb-3b69-4da1-8eb1-591cf6b4d9ef",
   "metadata": {},
   "outputs": [],
   "source": [
    "# Assign values to names. The names can be referred to later.\n",
    "my_integer = 1\n",
    "my_float = 1.2\n",
    "my_boolean = True\n",
    "my_string = \"hello world\""
   ]
  },
  {
   "cell_type": "code",
   "execution_count": 8,
   "id": "aa9511a3-d3f3-484b-ab1c-46e27ad1074e",
   "metadata": {},
   "outputs": [
    {
     "data": {
      "text/plain": [
       "2"
      ]
     },
     "execution_count": 8,
     "metadata": {},
     "output_type": "execute_result"
    }
   ],
   "source": [
    "# You can treat the names as the values themselves\n",
    "my_integer * 2"
   ]
  },
  {
   "cell_type": "code",
   "execution_count": 9,
   "id": "65d62d7d-7021-4bbc-bb7f-91b7891060b3",
   "metadata": {},
   "outputs": [],
   "source": [
    "# You can re-assign variable names\n",
    "my_integer = 2"
   ]
  },
  {
   "cell_type": "markdown",
   "id": "443124fb-6664-4ced-b25b-1dacef8697a5",
   "metadata": {},
   "source": [
    "# Input and Output"
   ]
  },
  {
   "cell_type": "code",
   "execution_count": null,
   "id": "e995cb9f-ecb4-4ff0-b0b5-63d01d31941a",
   "metadata": {},
   "outputs": [],
   "source": [
    "# Take input with the input() function. We will see more functions later.\n",
    "message = input()"
   ]
  },
  {
   "cell_type": "code",
   "execution_count": 11,
   "id": "e81c93c7-c0b9-427a-8c71-515847896119",
   "metadata": {},
   "outputs": [
    {
     "name": "stdin",
     "output_type": "stream",
     "text": [
      " 1\n"
     ]
    },
    {
     "data": {
      "text/plain": [
       "str"
      ]
     },
     "execution_count": 11,
     "metadata": {},
     "output_type": "execute_result"
    }
   ],
   "source": [
    "# NOTE: input() returns a string. \n",
    "# Some students expect it to automatically convert data if the data can be interpreted as a number.\n",
    "# You need to cast the data manually.\n",
    "type(input())"
   ]
  },
  {
   "cell_type": "code",
   "execution_count": 18,
   "id": "4c592a63-cacb-4e9b-a4b7-9f3ae129fc10",
   "metadata": {},
   "outputs": [
    {
     "data": {
      "text/plain": [
       "1"
      ]
     },
     "execution_count": 18,
     "metadata": {},
     "output_type": "execute_result"
    }
   ],
   "source": [
    "# You can try to convert a value into another data type by passing it to any of these functions:\n",
    "# int, float, bool, str\n",
    "# Example:\n",
    "int(\"1\")"
   ]
  },
  {
   "cell_type": "code",
   "execution_count": 19,
   "id": "b5b21e54-992f-4d22-9b61-ce6dc912f04b",
   "metadata": {},
   "outputs": [
    {
     "ename": "ValueError",
     "evalue": "invalid literal for int() with base 10: 'Not an integer'",
     "output_type": "error",
     "traceback": [
      "\u001b[1;31m---------------------------------------------------------------------------\u001b[0m",
      "\u001b[1;31mValueError\u001b[0m                                Traceback (most recent call last)",
      "Input \u001b[1;32mIn [19]\u001b[0m, in \u001b[0;36m<cell line: 3>\u001b[1;34m()\u001b[0m\n\u001b[0;32m      1\u001b[0m \u001b[38;5;66;03m# Conversion (or casting) does not always work.\u001b[39;00m\n\u001b[0;32m      2\u001b[0m \u001b[38;5;66;03m# Example:\u001b[39;00m\n\u001b[1;32m----> 3\u001b[0m \u001b[38;5;28;43mint\u001b[39;49m\u001b[43m(\u001b[49m\u001b[38;5;124;43m\"\u001b[39;49m\u001b[38;5;124;43mNot an integer\u001b[39;49m\u001b[38;5;124;43m\"\u001b[39;49m\u001b[43m)\u001b[49m\n",
      "\u001b[1;31mValueError\u001b[0m: invalid literal for int() with base 10: 'Not an integer'"
     ]
    }
   ],
   "source": [
    "# Conversion (or casting) does not always work.\n",
    "# Example. This will not work:\n",
    "int(\"Not an integer\")"
   ]
  },
  {
   "cell_type": "code",
   "execution_count": 13,
   "id": "9477b134-6887-490d-9151-d884669e1c2b",
   "metadata": {},
   "outputs": [
    {
     "name": "stdout",
     "output_type": "stream",
     "text": [
      "Hello,\n",
      "world!\n"
     ]
    }
   ],
   "source": [
    "# Display output with the print() function.\n",
    "first_line = \"Hello,\"\n",
    "second_line = \"world!\"\n",
    "## NOTE: in Jupyter, it may not be obvious why you need print() since the cells display the value of\n",
    "## the last expression. But if you want to display multiple values, you will need print().\n",
    "print(first_line)\n",
    "print(second_line)"
   ]
  },
  {
   "cell_type": "markdown",
   "id": "27220833-fcaf-45cc-bf25-5ff96755aa81",
   "metadata": {},
   "source": [
    "# Operations"
   ]
  },
  {
   "cell_type": "code",
   "execution_count": 14,
   "id": "fd614e65-4a53-4cd1-ada8-c36eda1e32e1",
   "metadata": {},
   "outputs": [
    {
     "data": {
      "text/plain": [
       "1"
      ]
     },
     "execution_count": 14,
     "metadata": {},
     "output_type": "execute_result"
    }
   ],
   "source": [
    "# Integer operations\n",
    "## NOTE: Most of these also apply to floats\n",
    "1 + 1 # Addition\n",
    "2 - 1 # Subtraction\n",
    "2 * 2 # Multiplication\n",
    "2 / 2 # Division (returns a float)\n",
    "2 // 1 # Floor division (returns an integer) (discards the fractional part of the float)\n",
    "5 ** 2 # Raise to power\n",
    "5 % 2 # Take remainder"
   ]
  },
  {
   "cell_type": "code",
   "execution_count": 16,
   "id": "b7bd05b8-d9cd-4909-873b-576b25a51276",
   "metadata": {},
   "outputs": [
    {
     "data": {
      "text/plain": [
       "False"
      ]
     },
     "execution_count": 16,
     "metadata": {},
     "output_type": "execute_result"
    }
   ],
   "source": [
    "a = 5\n",
    "b = 2\n",
    "# Comparison operators. Return booleans.\n",
    "a == b # Is equal to. Note the double equals.\n",
    "a != b # Is not equal to\n",
    "a > b # Is greater than\n",
    "a >= b # Is greater than or equal to\n",
    "a < b # Is less than\n",
    "a <= b # Is less than or equal to"
   ]
  },
  {
   "cell_type": "code",
   "execution_count": 17,
   "id": "23b4806c-bec4-48e6-bad4-455ff05637e5",
   "metadata": {},
   "outputs": [
    {
     "data": {
      "text/plain": [
       "False"
      ]
     },
     "execution_count": 17,
     "metadata": {},
     "output_type": "execute_result"
    }
   ],
   "source": [
    "a = True\n",
    "b = False\n",
    "# Logical operators. Return booleans.\n",
    "a or b # Logical OR\n",
    "a and b # Logical AND\n",
    "not a # Logical NOT"
   ]
  },
  {
   "cell_type": "code",
   "execution_count": null,
   "id": "18c3174b-012c-4b0d-b409-ccb0cbd8a855",
   "metadata": {},
   "outputs": [],
   "source": []
  }
 ],
 "metadata": {
  "kernelspec": {
   "display_name": "Python 3 (ipykernel)",
   "language": "python",
   "name": "python3"
  },
  "language_info": {
   "codemirror_mode": {
    "name": "ipython",
    "version": 3
   },
   "file_extension": ".py",
   "mimetype": "text/x-python",
   "name": "python",
   "nbconvert_exporter": "python",
   "pygments_lexer": "ipython3",
   "version": "3.9.12"
  }
 },
 "nbformat": 4,
 "nbformat_minor": 5
}
