{
 "cells": [
  {
   "cell_type": "markdown",
   "id": "60b90a77-e1a3-478c-842a-f3e28e21765d",
   "metadata": {},
   "source": [
    "# Files"
   ]
  },
  {
   "cell_type": "code",
   "execution_count": 6,
   "id": "a7463ab8-d471-427c-9248-d05dcdc15658",
   "metadata": {},
   "outputs": [],
   "source": [
    "f = open('sample.txt')\n",
    "data = f.read()\n",
    "f.close()"
   ]
  },
  {
   "cell_type": "code",
   "execution_count": 8,
   "id": "6d282b17-e94e-4a16-811a-b735d13203cb",
   "metadata": {},
   "outputs": [],
   "source": [
    "message = \"Hello from Python\"\n",
    "f = open('sample-2.txt', 'w')\n",
    "f.write(message)\n",
    "f.close()"
   ]
  },
  {
   "cell_type": "code",
   "execution_count": 9,
   "id": "b3c90d53-6918-4979-85a7-dd034c825731",
   "metadata": {},
   "outputs": [],
   "source": [
    "with open('sample-3.txt', 'w') as f:\n",
    "    f.write('Hello from a context manager')"
   ]
  },
  {
   "cell_type": "markdown",
   "id": "4a6846ae-8f3f-4b5d-a6ef-1cded024e5e1",
   "metadata": {},
   "source": [
    "# Libraries"
   ]
  },
  {
   "cell_type": "code",
   "execution_count": 10,
   "id": "c0918498-daf3-4bde-b7f5-3a86b6424f88",
   "metadata": {},
   "outputs": [
    {
     "data": {
      "text/plain": [
       "5.0"
      ]
     },
     "execution_count": 10,
     "metadata": {},
     "output_type": "execute_result"
    }
   ],
   "source": [
    "import math\n",
    "\n",
    "math.sqrt(25)"
   ]
  },
  {
   "cell_type": "code",
   "execution_count": 13,
   "id": "ee877fda-16a1-4b0c-bc86-27e69d3b922c",
   "metadata": {},
   "outputs": [],
   "source": [
    "import requests\n",
    "\n",
    "url = 'https://wikipedia.org'\n",
    "\n",
    "response = requests.get(url)\n",
    "\n",
    "text = response.text\n",
    "\n",
    "with open('wikipedia.html', 'w', encoding='utf-8') as f:\n",
    "    f.write(text)"
   ]
  },
  {
   "cell_type": "code",
   "execution_count": null,
   "id": "ea4e947c-d571-4b31-b70f-a4a2ced0d4b7",
   "metadata": {},
   "outputs": [],
   "source": []
  }
 ],
 "metadata": {
  "kernelspec": {
   "display_name": "Python 3 (ipykernel)",
   "language": "python",
   "name": "python3"
  },
  "language_info": {
   "codemirror_mode": {
    "name": "ipython",
    "version": 3
   },
   "file_extension": ".py",
   "mimetype": "text/x-python",
   "name": "python",
   "nbconvert_exporter": "python",
   "pygments_lexer": "ipython3",
   "version": "3.9.12"
  }
 },
 "nbformat": 4,
 "nbformat_minor": 5
}
