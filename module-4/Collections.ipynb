{
 "cells": [
  {
   "cell_type": "markdown",
   "id": "3f2f6ae7-419a-4fc1-8106-8a855704332b",
   "metadata": {},
   "source": [
    "# Lists"
   ]
  },
  {
   "cell_type": "code",
   "execution_count": 2,
   "id": "2051446a-2076-48ed-b9b7-aabf4238f322",
   "metadata": {},
   "outputs": [],
   "source": [
    "my_list = [1, 2, 3]"
   ]
  },
  {
   "cell_type": "code",
   "execution_count": 3,
   "id": "b447f8e6-329a-4a61-9584-2aae88dd5b86",
   "metadata": {},
   "outputs": [
    {
     "data": {
      "text/plain": [
       "1"
      ]
     },
     "execution_count": 3,
     "metadata": {},
     "output_type": "execute_result"
    }
   ],
   "source": [
    "my_list[0]"
   ]
  },
  {
   "cell_type": "code",
   "execution_count": 4,
   "id": "51fa9469-520e-4856-a911-94b88ba75506",
   "metadata": {},
   "outputs": [
    {
     "data": {
      "text/plain": [
       "3"
      ]
     },
     "execution_count": 4,
     "metadata": {},
     "output_type": "execute_result"
    }
   ],
   "source": [
    "my_list[-1]"
   ]
  },
  {
   "cell_type": "code",
   "execution_count": 5,
   "id": "79a5301d-02ca-44eb-a327-a43650a371ea",
   "metadata": {},
   "outputs": [],
   "source": [
    "my_list = [1, 2, 3, 4, 5, 6, 7, 8, 9, 10]"
   ]
  },
  {
   "cell_type": "code",
   "execution_count": 8,
   "id": "356fd11a-0e0f-4537-8478-257b9deaabe0",
   "metadata": {},
   "outputs": [
    {
     "data": {
      "text/plain": [
       "[7, 8, 9, 10]"
      ]
     },
     "execution_count": 8,
     "metadata": {},
     "output_type": "execute_result"
    }
   ],
   "source": [
    "my_list[-4:]"
   ]
  },
  {
   "cell_type": "code",
   "execution_count": 9,
   "id": "53b52b16-ed05-432a-8b34-0ec1beadb9f7",
   "metadata": {},
   "outputs": [
    {
     "data": {
      "text/plain": [
       "[True, 1, 5.2, 'hello', [1, 2, 3]]"
      ]
     },
     "execution_count": 9,
     "metadata": {},
     "output_type": "execute_result"
    }
   ],
   "source": [
    "[True, 1, 5.2, \"hello\", [1, 2, 3]]"
   ]
  },
  {
   "cell_type": "code",
   "execution_count": 12,
   "id": "1e6b7e78-fb0a-4d18-80e2-46fa372cb0bd",
   "metadata": {},
   "outputs": [
    {
     "data": {
      "text/plain": [
       "'id'"
      ]
     },
     "execution_count": 12,
     "metadata": {},
     "output_type": "execute_result"
    }
   ],
   "source": [
    "[\n",
    "    [\"id\", \"name\"],\n",
    "    [1, \"Joe\"],\n",
    "    [2, \"Joben\"],\n",
    "][0][0]"
   ]
  },
  {
   "cell_type": "code",
   "execution_count": 21,
   "id": "03dde60c-6dc9-424e-a11d-eed80dc7881a",
   "metadata": {},
   "outputs": [
    {
     "data": {
      "text/plain": [
       "[1, 2, 3, 4]"
      ]
     },
     "execution_count": 21,
     "metadata": {},
     "output_type": "execute_result"
    }
   ],
   "source": [
    "list_one = [1, 2, 3]\n",
    "list_two = list_one\n",
    "\n",
    "list_two.append(4)\n",
    "\n",
    "list_one"
   ]
  },
  {
   "cell_type": "markdown",
   "id": "4d0b9d85-d5e8-4203-9e33-6c90f4dd9cef",
   "metadata": {},
   "source": [
    "# Dictionaries"
   ]
  },
  {
   "cell_type": "code",
   "execution_count": 17,
   "id": "5d0f227e-a190-4608-8e5e-4df877971a48",
   "metadata": {},
   "outputs": [
    {
     "data": {
      "text/plain": [
       "'qwerty'"
      ]
     },
     "execution_count": 17,
     "metadata": {},
     "output_type": "execute_result"
    }
   ],
   "source": [
    "{\n",
    "    \"asdf\": \"qwerty\"\n",
    "}[\"asdf\"]"
   ]
  },
  {
   "cell_type": "code",
   "execution_count": 19,
   "id": "daa4354d-0912-4508-94cc-39ff0c4b1e28",
   "metadata": {},
   "outputs": [
    {
     "data": {
      "text/plain": [
       "123"
      ]
     },
     "execution_count": 19,
     "metadata": {},
     "output_type": "execute_result"
    }
   ],
   "source": [
    "{\n",
    "    \"location\": {\n",
    "        \"longitude\": 123,\n",
    "        \"latitude\": 456,\n",
    "    }\n",
    "}[\"location\"][\"longitude\"]"
   ]
  },
  {
   "cell_type": "code",
   "execution_count": 22,
   "id": "753c9baf-4226-40d6-a8bc-7f30e70a0fc7",
   "metadata": {},
   "outputs": [
    {
     "data": {
      "text/plain": [
       "{'hello': 'world', 'red': 'car'}"
      ]
     },
     "execution_count": 22,
     "metadata": {},
     "output_type": "execute_result"
    }
   ],
   "source": [
    "my_dictionary = {\"hello\": \"world\"}\n",
    "\n",
    "my_dictionary.update({\n",
    "    \"red\": \"car\",\n",
    "})\n",
    "\n",
    "my_dictionary"
   ]
  },
  {
   "cell_type": "code",
   "execution_count": null,
   "id": "99573074-f950-44fd-b796-a3b3b61fa796",
   "metadata": {},
   "outputs": [],
   "source": []
  }
 ],
 "metadata": {
  "kernelspec": {
   "display_name": "Python 3 (ipykernel)",
   "language": "python",
   "name": "python3"
  },
  "language_info": {
   "codemirror_mode": {
    "name": "ipython",
    "version": 3
   },
   "file_extension": ".py",
   "mimetype": "text/x-python",
   "name": "python",
   "nbconvert_exporter": "python",
   "pygments_lexer": "ipython3",
   "version": "3.9.12"
  }
 },
 "nbformat": 4,
 "nbformat_minor": 5
}
